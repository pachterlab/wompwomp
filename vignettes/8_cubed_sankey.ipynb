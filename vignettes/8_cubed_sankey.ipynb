{
 "cells": [
  {
   "cell_type": "code",
   "execution_count": 1,
   "metadata": {},
   "outputs": [],
   "source": [
    "import os\n",
    "import pandas as pd\n",
    "import plotly.graph_objects as go\n",
    "import plotly.io as pio\n",
    "\n",
    "wompwomp_vignettes_dir = os.path.abspath(\"\")\n",
    "output_dir = os.path.join(wompwomp_vignettes_dir, \"output\")"
   ]
  },
  {
   "cell_type": "code",
   "execution_count": 2,
   "metadata": {},
   "outputs": [],
   "source": [
    "genes = [\"Akr1c21\", \"Slc7a12\"]\n",
    "csv_path = os.path.join(output_dir, \"Akr1c21_Slc7a12.csv\")"
   ]
  },
  {
   "cell_type": "code",
   "execution_count": null,
   "metadata": {},
   "outputs": [
    {
     "data": {
      "application/vnd.microsoft.datawrangler.viewer.v0+json": {
       "columns": [
        {
         "name": "index",
         "rawType": "int64",
         "type": "integer"
        },
        {
         "name": "cellID",
         "rawType": "object",
         "type": "string"
        },
        {
         "name": "Gene",
         "rawType": "object",
         "type": "string"
        },
        {
         "name": "individual",
         "rawType": "int64",
         "type": "integer"
        },
        {
         "name": "Sex",
         "rawType": "object",
         "type": "string"
        },
        {
         "name": "Genotype",
         "rawType": "object",
         "type": "string"
        },
        {
         "name": "Tissue",
         "rawType": "object",
         "type": "string"
        },
        {
         "name": "Celltype_final",
         "rawType": "object",
         "type": "string"
        },
        {
         "name": "umi_total",
         "rawType": "float64",
         "type": "float"
        }
       ],
       "ref": "d5b34c1d-81a2-4c99-8a3a-87011f1d0b6a",
       "rows": [
        [
         "0",
         "E4_F5_E11_Subpool_4_igvf_010",
         "Akr1c21",
         "41",
         "Male",
         "129S1J",
         "Kidney",
         "Kidney-smooth muscle cell",
         "1.4324015145217277"
        ],
        [
         "1",
         "B8_B10_G8_Subpool_4_igvf_010",
         "Akr1c21",
         "73",
         "Male",
         "NODJ",
         "Kidney",
         "Kidney-loop of Henle thick ascending limb epithelial cell",
         "1.2687691763782216"
        ],
        [
         "2",
         "H2_H3_F11_Subpool_4_igvf_010",
         "Akr1c21",
         "47",
         "Male",
         "NZOJ",
         "Kidney",
         "Kidney-smooth muscle cell",
         "1.1303862776471485"
        ],
        [
         "3",
         "A7_A5_E3_Subpool_4_igvf_010",
         "Akr1c21",
         "24",
         "Female",
         "B6J",
         "Kidney",
         "Kidney-collecting duct beta-intercalated cell",
         "0.5542981276467841"
        ],
        [
         "4",
         "H2_D8_G8_Subpool_4_igvf_010",
         "Akr1c21",
         "47",
         "Male",
         "NZOJ",
         "Kidney",
         "Kidney-collecting duct beta-intercalated cell",
         "1.5604539636935264"
        ]
       ],
       "shape": {
        "columns": 8,
        "rows": 5
       }
      },
      "text/html": [
       "<div>\n",
       "<style scoped>\n",
       "    .dataframe tbody tr th:only-of-type {\n",
       "        vertical-align: middle;\n",
       "    }\n",
       "\n",
       "    .dataframe tbody tr th {\n",
       "        vertical-align: top;\n",
       "    }\n",
       "\n",
       "    .dataframe thead th {\n",
       "        text-align: right;\n",
       "    }\n",
       "</style>\n",
       "<table border=\"1\" class=\"dataframe\">\n",
       "  <thead>\n",
       "    <tr style=\"text-align: right;\">\n",
       "      <th></th>\n",
       "      <th>cellID</th>\n",
       "      <th>Gene</th>\n",
       "      <th>individual</th>\n",
       "      <th>Sex</th>\n",
       "      <th>Genotype</th>\n",
       "      <th>Tissue</th>\n",
       "      <th>Celltype_final</th>\n",
       "      <th>umi_total</th>\n",
       "    </tr>\n",
       "  </thead>\n",
       "  <tbody>\n",
       "    <tr>\n",
       "      <th>0</th>\n",
       "      <td>E4_F5_E11_Subpool_4_igvf_010</td>\n",
       "      <td>Akr1c21</td>\n",
       "      <td>41</td>\n",
       "      <td>Male</td>\n",
       "      <td>129S1J</td>\n",
       "      <td>Kidney</td>\n",
       "      <td>Kidney-smooth muscle cell</td>\n",
       "      <td>1.432402</td>\n",
       "    </tr>\n",
       "    <tr>\n",
       "      <th>1</th>\n",
       "      <td>B8_B10_G8_Subpool_4_igvf_010</td>\n",
       "      <td>Akr1c21</td>\n",
       "      <td>73</td>\n",
       "      <td>Male</td>\n",
       "      <td>NODJ</td>\n",
       "      <td>Kidney</td>\n",
       "      <td>Kidney-loop of Henle thick ascending limb epit...</td>\n",
       "      <td>1.268769</td>\n",
       "    </tr>\n",
       "    <tr>\n",
       "      <th>2</th>\n",
       "      <td>H2_H3_F11_Subpool_4_igvf_010</td>\n",
       "      <td>Akr1c21</td>\n",
       "      <td>47</td>\n",
       "      <td>Male</td>\n",
       "      <td>NZOJ</td>\n",
       "      <td>Kidney</td>\n",
       "      <td>Kidney-smooth muscle cell</td>\n",
       "      <td>1.130386</td>\n",
       "    </tr>\n",
       "    <tr>\n",
       "      <th>3</th>\n",
       "      <td>A7_A5_E3_Subpool_4_igvf_010</td>\n",
       "      <td>Akr1c21</td>\n",
       "      <td>24</td>\n",
       "      <td>Female</td>\n",
       "      <td>B6J</td>\n",
       "      <td>Kidney</td>\n",
       "      <td>Kidney-collecting duct beta-intercalated cell</td>\n",
       "      <td>0.554298</td>\n",
       "    </tr>\n",
       "    <tr>\n",
       "      <th>4</th>\n",
       "      <td>H2_D8_G8_Subpool_4_igvf_010</td>\n",
       "      <td>Akr1c21</td>\n",
       "      <td>47</td>\n",
       "      <td>Male</td>\n",
       "      <td>NZOJ</td>\n",
       "      <td>Kidney</td>\n",
       "      <td>Kidney-collecting duct beta-intercalated cell</td>\n",
       "      <td>1.560454</td>\n",
       "    </tr>\n",
       "  </tbody>\n",
       "</table>\n",
       "</div>"
      ],
      "text/plain": [
       "                         cellID     Gene  individual     Sex Genotype  Tissue  \\\n",
       "0  E4_F5_E11_Subpool_4_igvf_010  Akr1c21          41    Male   129S1J  Kidney   \n",
       "1  B8_B10_G8_Subpool_4_igvf_010  Akr1c21          73    Male     NODJ  Kidney   \n",
       "2  H2_H3_F11_Subpool_4_igvf_010  Akr1c21          47    Male     NZOJ  Kidney   \n",
       "3   A7_A5_E3_Subpool_4_igvf_010  Akr1c21          24  Female      B6J  Kidney   \n",
       "4   H2_D8_G8_Subpool_4_igvf_010  Akr1c21          47    Male     NZOJ  Kidney   \n",
       "\n",
       "                                      Celltype_final  umi_total  \n",
       "0                          Kidney-smooth muscle cell   1.432402  \n",
       "1  Kidney-loop of Henle thick ascending limb epit...   1.268769  \n",
       "2                          Kidney-smooth muscle cell   1.130386  \n",
       "3      Kidney-collecting duct beta-intercalated cell   0.554298  \n",
       "4      Kidney-collecting duct beta-intercalated cell   1.560454  "
      ]
     },
     "execution_count": 3,
     "metadata": {},
     "output_type": "execute_result"
    }
   ],
   "source": [
    "if not os.path.exists(csv_path):\n",
    "    raise FileNotFoundError(f\"CSV file not found at {csv_path}\")\n",
    "\n",
    "df = pd.read_csv(csv_path)\n",
    "df.head()"
   ]
  },
  {
   "cell_type": "code",
   "execution_count": null,
   "metadata": {},
   "outputs": [],
   "source": [
    "def hex_to_rgba(hex_color, alpha=0.6):\n",
    "    hex_color = hex_color.lstrip(\"#\")\n",
    "    r, g, b = [int(hex_color[i:i+2], 16) for i in (0, 2, 4)]\n",
    "    return f\"rgba({r}, {g}, {b}, {alpha})\"\n",
    "\n",
    "def plot_data(df, groupings, plot_out_path = None, df_out_path = None):\n",
    "    umi_group_sum = df.groupby(groupings)[\"umi_total\"].sum().reset_index(name=\"value\")\n",
    "    if df_out_path is not None:\n",
    "        umi_group_sum.to_csv(df_out_path, index=False)\n",
    "    labels = pd.unique(umi_group_sum[groupings].values.ravel())\n",
    "    label_to_idx = {label: i for i, label in enumerate(labels)}\n",
    "    gene_colors = {genes[0]: 'rgba(213, 94, 0, 0.6)', genes[1]: 'rgba(86, 180, 233, 0.6)'}\n",
    "    sources, targets, values, link_colors = [], [], [], []\n",
    "\n",
    "    for i in range(len(groupings) - 1):\n",
    "        cols = [groupings[i], groupings[i + 1]]\n",
    "        if \"Gene\" not in cols:\n",
    "            cols.append(\"Gene\")\n",
    "        temp = umi_group_sum.groupby(cols, as_index=False)[\"value\"].sum()\n",
    "        for _, row in temp.iterrows():\n",
    "            sources.append(label_to_idx[row[groupings[i]]])\n",
    "            targets.append(label_to_idx[row[groupings[i + 1]]])\n",
    "            values.append(row[\"value\"])\n",
    "            link_colors.append(gene_colors.get(row[\"Gene\"], 'rgba(200,200,200,0.4)'))\n",
    "\n",
    "    fig = go.Figure(data=[go.Sankey(\n",
    "        node=dict(\n",
    "            pad=15,\n",
    "            thickness=20,\n",
    "            label=list(label_to_idx.keys()),\n",
    "            color='lightblue'\n",
    "        ),\n",
    "        link=dict(\n",
    "            source=sources,\n",
    "            target=targets,\n",
    "            value=values,\n",
    "            color=link_colors\n",
    "        )\n",
    "    )])\n",
    "\n",
    "    fig.update_layout(\n",
    "        # title_text='UMI-Weighted Alluvial Plot',\n",
    "        font_size=10,\n",
    "        height=1700,\n",
    "        width=1500,  \n",
    "    )\n",
    "\n",
    "    fig.write_image(plot_out_path)"
   ]
  },
  {
   "cell_type": "code",
   "execution_count": 5,
   "metadata": {},
   "outputs": [],
   "source": [
    "groupings = [\"Gene\", \"individual\", \"Sex\", \"Genotype\", \"Tissue\", \"Celltype_final\"]\n",
    "plot_data(df, groupings, df_out_path = os.path.join(output_dir, \"Akr1c21_Slc7a12_grouped.csv\"), plot_out_path = os.path.join(output_dir, \"Akr1c21_Slc7a12_sankey_plot.pdf\"))"
   ]
  },
  {
   "cell_type": "code",
   "execution_count": 6,
   "metadata": {},
   "outputs": [],
   "source": [
    "groupings = [\"Gene\", \"Sex\", \"Genotype\", \"Tissue\"]\n",
    "plot_data(df, groupings, plot_out_path = os.path.join(output_dir, \"Akr1c21_Slc7a12_sankey_plot_fixed_columns.pdf\"))"
   ]
  },
  {
   "cell_type": "code",
   "execution_count": 9,
   "metadata": {},
   "outputs": [],
   "source": [
    "groupings = [\"Gene\", \"Sex\", \"Tissue\", \"Genotype\"]\n",
    "plot_data(df, groupings, plot_out_path = os.path.join(output_dir, \"Akr1c21_Slc7a12_sankey_plot_optimized_columns.pdf\"))"
   ]
  }
 ],
 "metadata": {
  "kernelspec": {
   "display_name": "seurat_vs_scanpy",
   "language": "python",
   "name": "python3"
  },
  "language_info": {
   "codemirror_mode": {
    "name": "ipython",
    "version": 3
   },
   "file_extension": ".py",
   "mimetype": "text/x-python",
   "name": "python",
   "nbconvert_exporter": "python",
   "pygments_lexer": "ipython3",
   "version": "3.9.18"
  }
 },
 "nbformat": 4,
 "nbformat_minor": 2
}
